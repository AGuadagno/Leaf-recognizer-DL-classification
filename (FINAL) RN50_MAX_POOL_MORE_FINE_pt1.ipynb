{
  "nbformat": 4,
  "nbformat_minor": 0,
  "metadata": {
    "kernelspec": {
      "language": "python",
      "display_name": "Python 3",
      "name": "python3"
    },
    "language_info": {
      "name": "python",
      "version": "3.7.10",
      "mimetype": "text/x-python",
      "codemirror_mode": {
        "name": "ipython",
        "version": 3
      },
      "pygments_lexer": "ipython3",
      "nbconvert_exporter": "python",
      "file_extension": ".py"
    },
    "colab": {
      "name": "93,22% RN50 MAX POOL MORE FINE pt1.ipynb",
      "provenance": []
    }
  },
  "cells": [
    {
      "cell_type": "markdown",
      "metadata": {
        "id": "Fl9I1oA9PytK"
      },
      "source": [
        "This is the first part of the notebook we have used to build the model submitted for the final evaluation. Kaggle allows only runs which last less than 9 hourse, so we needed to split the training into 2 parts, otherwise we would have exceeded the maximum time. Notice that, since we used all the data for the training, we don't have a validation set here. Of course, previously we have run the same code considering also the valuation set."
      ]
    },
    {
      "cell_type": "code",
      "metadata": {
        "execution": {
          "iopub.status.busy": "2021-11-25T22:25:55.881674Z",
          "iopub.execute_input": "2021-11-25T22:25:55.882374Z",
          "iopub.status.idle": "2021-11-25T22:26:02.779228Z",
          "shell.execute_reply.started": "2021-11-25T22:25:55.882268Z",
          "shell.execute_reply": "2021-11-25T22:26:02.778545Z"
        },
        "trusted": true,
        "id": "RJqHL6iYPpry"
      },
      "source": [
        "# Importing libraries\n",
        "import tensorflow as tf\n",
        "import numpy as np\n",
        "import os\n",
        "import random\n",
        "import pandas as pd\n",
        "import matplotlib as mpl\n",
        "import matplotlib.pyplot as plt\n",
        "from sklearn.metrics import accuracy_score, f1_score, precision_score, recall_score\n",
        "from PIL import Image\n",
        "from tensorflow.keras.models import Sequential\n",
        "from tensorflow.keras.optimizers import Adam\n",
        "\n",
        "tfk = tf.keras\n",
        "tfkl = tf.keras.layers\n",
        "print(tf.__version__)"
      ],
      "execution_count": null,
      "outputs": []
    },
    {
      "cell_type": "code",
      "metadata": {
        "execution": {
          "iopub.status.busy": "2021-11-25T22:26:02.780605Z",
          "iopub.execute_input": "2021-11-25T22:26:02.78097Z",
          "iopub.status.idle": "2021-11-25T22:26:02.787182Z",
          "shell.execute_reply.started": "2021-11-25T22:26:02.780939Z",
          "shell.execute_reply": "2021-11-25T22:26:02.785197Z"
        },
        "trusted": true,
        "id": "CVZx5TD9Ppr0"
      },
      "source": [
        "# Random seed for reproducibility\n",
        "seed = 42\n",
        "\n",
        "random.seed(seed)\n",
        "os.environ['PYTHONHASHSEED'] = str(seed)\n",
        "np.random.seed(seed)\n",
        "tf.random.set_seed(seed)\n",
        "tf.compat.v1.set_random_seed(seed)"
      ],
      "execution_count": null,
      "outputs": []
    },
    {
      "cell_type": "code",
      "metadata": {
        "execution": {
          "iopub.status.busy": "2021-11-25T22:26:02.789562Z",
          "iopub.execute_input": "2021-11-25T22:26:02.790798Z",
          "iopub.status.idle": "2021-11-25T22:26:05.579503Z",
          "shell.execute_reply.started": "2021-11-25T22:26:02.790758Z",
          "shell.execute_reply": "2021-11-25T22:26:05.578444Z"
        },
        "trusted": true,
        "id": "rLxLhlxRPpr1"
      },
      "source": [
        "# Class Weights are needed to contrast the problem of class imbalance.\n",
        "\n",
        "labels = ['Apple','Blueberry','Cherry','Corn','Grape','Orange','Peach','Pepper','Potato','Raspberry','Soybean','Squash','Strawberry','Tomato']\n",
        "\n",
        "num_of_images_training = []\n",
        "for l in labels:\n",
        "    path = '../input/full-dataset/Dataset/training' + '/' + l\n",
        "    num_img_class_l = len(os.listdir(path))\n",
        "    num_of_images_training.append(num_img_class_l)\n",
        "\n",
        "tot_num_images = 0\n",
        "for i in range(len(labels)):\n",
        "    tot_num_images += num_of_images_training[i]\n",
        "    \n",
        "weights = []\n",
        "for i in range(len(labels)):\n",
        "    num = (1 / num_of_images_training[i])*(tot_num_images)/14.0 \n",
        "    weights.append(num)\n",
        "    \n",
        "print(weights)\n",
        "\n",
        "# Vector of weights we will use for the training\n",
        "\n",
        "class_weights = {0: weights[0], 1: weights[1], 2: weights[2], 3: weights[3], 4: weights[4], 5: weights[5], 6: weights[6], 7: weights[7], 8: weights[8], 9: weights[9], 10: weights[10], 11: weights[11], 12: weights[12], 13: weights[13]}\n",
        "\n",
        "for i in range(len(labels)):\n",
        "    print(str(i) + ': {:.3f}'.format(weights[i]))"
      ],
      "execution_count": null,
      "outputs": []
    },
    {
      "cell_type": "code",
      "metadata": {
        "execution": {
          "iopub.status.busy": "2021-11-25T22:26:05.581531Z",
          "iopub.execute_input": "2021-11-25T22:26:05.581755Z",
          "iopub.status.idle": "2021-11-25T22:26:05.590225Z",
          "shell.execute_reply.started": "2021-11-25T22:26:05.581728Z",
          "shell.execute_reply": "2021-11-25T22:26:05.589208Z"
        },
        "trusted": true,
        "id": "y5LGZrWaPpr2"
      },
      "source": [
        "# Data augmentation\n",
        "\n",
        "from tensorflow.keras.preprocessing.image import ImageDataGenerator\n",
        "from tensorflow.keras.applications.resnet50 import preprocess_input\n",
        "\n",
        "train_data_gen_data_aug = ImageDataGenerator(rotation_range=30,\n",
        "                                        height_shift_range=50,\n",
        "                                        width_shift_range=50,\n",
        "                                        zoom_range=0.3, # To better recognize both veins (zoom in) and edges (zoom out) of the leaves\n",
        "                                        horizontal_flip=True,\n",
        "                                        vertical_flip=True, # To recognize leaves when they're upside down\n",
        "                                        fill_mode='constant') # To avoid multiple leaves in the same image\n",
        "                                        \n",
        "\n",
        "print(\"IDG OK\")"
      ],
      "execution_count": null,
      "outputs": []
    },
    {
      "cell_type": "code",
      "metadata": {
        "execution": {
          "iopub.status.busy": "2021-11-25T22:26:05.591655Z",
          "iopub.execute_input": "2021-11-25T22:26:05.592306Z",
          "iopub.status.idle": "2021-11-25T22:26:13.006685Z",
          "shell.execute_reply.started": "2021-11-25T22:26:05.592271Z",
          "shell.execute_reply": "2021-11-25T22:26:13.005232Z"
        },
        "trusted": true,
        "id": "ROfiDKbUPpr3"
      },
      "source": [
        "training_dir = '../input/full-dataset/Dataset/training'\n",
        "validation_dir = '../input/full-dataset/Dataset/validation'\n",
        "\n",
        "train_gen_data_aug = train_data_gen_data_aug.flow_from_directory(directory=training_dir,\n",
        "                                                           target_size=(256,256),\n",
        "                                                           color_mode='rgb',\n",
        "                                                           classes=None, \n",
        "                                                           class_mode='categorical',\n",
        "                                                           batch_size=64,\n",
        "                                                           shuffle=True,\n",
        "                                                           seed=seed)\n"
      ],
      "execution_count": null,
      "outputs": []
    },
    {
      "cell_type": "markdown",
      "metadata": {
        "id": "ZZjRHtpeQPM_"
      },
      "source": [
        "The training is divided into 2 steps\n",
        "\n",
        "1.   First Step: 20 epochs in which all the layers of ResNet50 are setted to \"trainable = False\". In this way we are able to train a little bit the dense layers that we have put after ResNet50 before the fine tuning. In this phase we use a larger learning rate (1e-3)\n",
        "2.   Second Step: 100 epochs in which the last layers of ResNet50 are setted to \"trainable = True\". In this way we fine tune ResNet50 togheter with our dense layers. In this phase we use a smaller learning rate (1e-4)\n",
        "\n",
        "Splitting the training into 2 steps, we can fine tune the last layers of ResNet50 having our dense layers trained a little bit."
      ]
    },
    {
      "cell_type": "code",
      "metadata": {
        "execution": {
          "iopub.status.busy": "2021-11-25T22:26:13.008177Z",
          "iopub.execute_input": "2021-11-25T22:26:13.008469Z",
          "iopub.status.idle": "2021-11-25T22:26:13.015406Z",
          "shell.execute_reply.started": "2021-11-25T22:26:13.008426Z",
          "shell.execute_reply": "2021-11-25T22:26:13.01429Z"
        },
        "trusted": true,
        "id": "F_ON7WPnPpr3"
      },
      "source": [
        "input_shape = (256, 256, 3)\n",
        "epochs = 20\n",
        "print(\"DEBUG\")"
      ],
      "execution_count": null,
      "outputs": []
    },
    {
      "cell_type": "code",
      "metadata": {
        "execution": {
          "iopub.status.busy": "2021-11-25T22:26:13.017102Z",
          "iopub.execute_input": "2021-11-25T22:26:13.017688Z",
          "iopub.status.idle": "2021-11-25T22:26:15.742859Z",
          "shell.execute_reply.started": "2021-11-25T22:26:13.017636Z",
          "shell.execute_reply": "2021-11-25T22:26:15.74189Z"
        },
        "trusted": true,
        "id": "7OlTWQmtPpr4"
      },
      "source": [
        "supernet = tfk.applications.ResNet50(\n",
        "    include_top=False, # In a first moment, none of the layers of ResNet50 is trainable\n",
        "    input_shape=(224,224,3),\n",
        "    weights='imagenet')\n",
        "\n",
        "supernet.trainable = False\n",
        "supernet.summary()\n"
      ],
      "execution_count": null,
      "outputs": []
    },
    {
      "cell_type": "code",
      "metadata": {
        "execution": {
          "iopub.status.busy": "2021-11-25T22:26:15.744377Z",
          "iopub.execute_input": "2021-11-25T22:26:15.744722Z",
          "iopub.status.idle": "2021-11-25T22:26:15.756653Z",
          "shell.execute_reply.started": "2021-11-25T22:26:15.744677Z",
          "shell.execute_reply": "2021-11-25T22:26:15.755992Z"
        },
        "trusted": true,
        "id": "bYAnem29Ppr5"
      },
      "source": [
        "# Utility function to create folders and callbacks for training\n",
        "from datetime import datetime\n",
        "\n",
        "def create_folders_and_callbacks(model_name):\n",
        "\n",
        "    exps_dir = os.path.join('./working1')\n",
        "    if not os.path.exists(exps_dir):\n",
        "        os.makedirs(exps_dir)\n",
        "\n",
        "    now = datetime.now().strftime('%b%d_%H-%M-%S')\n",
        "\n",
        "    exp_dir = os.path.join(exps_dir, model_name + '_' + str(now))\n",
        "    if not os.path.exists(exp_dir):\n",
        "        os.makedirs(exp_dir)\n",
        "      \n",
        "    callbacks = []\n",
        "\n",
        "    # Model checkpoint \n",
        "    ckpt_dir = os.path.join(exp_dir, 'ckpts')\n",
        "    if not os.path.exists(ckpt_dir):\n",
        "        os.makedirs(ckpt_dir)\n",
        "\n",
        "    ckpt_callback = tf.keras.callbacks.ModelCheckpoint(filepath=os.path.join(ckpt_dir, 'cp.ckpt'), \n",
        "                                                     save_weights_only=False, # True to save only weights\n",
        "                                                     save_best_only= True) # True to save only the best epoch \n",
        "    callbacks.append(ckpt_callback)\n",
        "\n",
        "    # Visualize Learning on Tensorboard\n",
        "    tb_dir = os.path.join(exp_dir, 'tb_logs')\n",
        "    if not os.path.exists(tb_dir):\n",
        "        os.makedirs(tb_dir)\n",
        "      \n",
        "    # By default shows losses and metrics for both training and validation\n",
        "    tb_callback = tf.keras.callbacks.TensorBoard(log_dir=tb_dir, \n",
        "                                               profile_batch=0,\n",
        "                                               histogram_freq=1)  # if > 0 (epochs) shows weights histograms\n",
        "    callbacks.append(tb_callback)\n",
        "\n",
        "\n",
        "    return callbacks"
      ],
      "execution_count": null,
      "outputs": []
    },
    {
      "cell_type": "markdown",
      "metadata": {
        "id": "Z3-35ny9QZWo"
      },
      "source": [
        "Notice that, using all data for the training, we don't use Early Stopping."
      ]
    },
    {
      "cell_type": "code",
      "metadata": {
        "execution": {
          "iopub.status.busy": "2021-11-25T22:26:15.758063Z",
          "iopub.execute_input": "2021-11-25T22:26:15.758291Z",
          "iopub.status.idle": "2021-11-25T22:26:16.319135Z",
          "shell.execute_reply.started": "2021-11-25T22:26:15.758263Z",
          "shell.execute_reply": "2021-11-25T22:26:16.317332Z"
        },
        "trusted": true,
        "id": "SfKHjFGNPpr5"
      },
      "source": [
        "supernet.trainable = False\n",
        "\n",
        "inputs = tfk.Input(shape=(256,256,3))\n",
        "\n",
        "x = tfkl.Resizing(224, 224, interpolation=\"bicubic\")(inputs) # 224x224 is the input shape used by ResNet50\n",
        "x = tfkl.GaussianNoise(stddev=0.1)(x) # We add some noise to generalize better\n",
        "x = preprocess_input(x) # Preprocessing using the preprocessing function of ResNet50\n",
        "\n",
        "\n",
        "x = supernet(x) # ResNet50\n",
        "\n",
        "x = tfkl.MaxPooling2D( # Max pooling to reduce the number of parameters\n",
        "    pool_size=(2, 2), strides=None, padding=\"valid\", data_format=None)(x)\n",
        "\n",
        "# Our dense layers\n",
        "\n",
        "x = tfkl.Flatten(name='Flattening')(x) # Flattening\n",
        "x = tfkl.Dropout(0.5, seed=seed)(x)\n",
        "x = tfkl.Dense(\n",
        "    128, \n",
        "    activation='relu',\n",
        "    kernel_initializer = tfk.initializers.GlorotUniform(seed))(x)\n",
        "x = tfkl.Dropout(0.3, seed=seed)(x)\n",
        "x = tfkl.Dense(\n",
        "    64, \n",
        "    activation='relu',\n",
        "    kernel_initializer = tfk.initializers.GlorotUniform(seed))(x)\n",
        "x = tfkl.Dropout(0.3, seed=seed)(x)\n",
        "outputs = tfkl.Dense(\n",
        "    14, # 14 classes of leaves\n",
        "    activation='softmax',\n",
        "    kernel_initializer = tfk.initializers.GlorotUniform(seed))(x)\n",
        "\n",
        "model_aug_RN50_fine = tfk.Model(inputs=inputs, outputs=outputs, name='model_aug_RN50_fine')\n",
        "model_aug_RN50_fine.summary()"
      ],
      "execution_count": null,
      "outputs": []
    },
    {
      "cell_type": "code",
      "metadata": {
        "execution": {
          "iopub.status.busy": "2021-11-25T22:26:16.322259Z",
          "iopub.execute_input": "2021-11-25T22:26:16.322811Z",
          "iopub.status.idle": "2021-11-25T22:26:16.34335Z",
          "shell.execute_reply.started": "2021-11-25T22:26:16.322769Z",
          "shell.execute_reply": "2021-11-25T22:26:16.342393Z"
        },
        "trusted": true,
        "id": "CfDl4HJQPpr6"
      },
      "source": [
        "# First step of the training\n",
        "model_aug_RN50_fine.compile(loss=tfk.losses.CategoricalCrossentropy(), optimizer=tfk.optimizers.Adam(1e-3), metrics='accuracy')"
      ],
      "execution_count": null,
      "outputs": []
    },
    {
      "cell_type": "code",
      "metadata": {
        "execution": {
          "iopub.status.busy": "2021-11-25T22:26:16.344623Z",
          "iopub.execute_input": "2021-11-25T22:26:16.344852Z"
        },
        "trusted": true,
        "id": "5RPkeyEgPpr6"
      },
      "source": [
        "callbacks = create_folders_and_callbacks(model_name='model_aug_RN50_fine')\n",
        "\n",
        "history = model_aug_RN50_fine.fit(\n",
        "    x = train_gen_data_aug,\n",
        "    batch_size = 64,\n",
        "    epochs = epochs,\n",
        "    callbacks = callbacks,\n",
        "    class_weight = class_weights # Class weights computed by us\n",
        ").history"
      ],
      "execution_count": null,
      "outputs": []
    },
    {
      "cell_type": "code",
      "metadata": {
        "trusted": true,
        "id": "_9vGHV9xPpr7"
      },
      "source": [
        "model_aug_RN50_fine.get_layer('resnet50').trainable = True\n",
        "for i, layer in enumerate(model_aug_RN50_fine.get_layer('resnet50').layers[:158]): # Fine Tuning\n",
        "    layer.trainable=False\n",
        "for i, layer in enumerate(model_aug_RN50_fine.get_layer('resnet50').layers):\n",
        "    print(i, layer.name, layer.trainable)\n",
        "\n",
        "\n",
        "model_aug_RN50_fine.summary()"
      ],
      "execution_count": null,
      "outputs": []
    },
    {
      "cell_type": "code",
      "metadata": {
        "trusted": true,
        "id": "44zBqzgnPpr7"
      },
      "source": [
        "# First part of the second step of the training\n",
        "model_aug_RN50_fine.compile(loss=tfk.losses.CategoricalCrossentropy(), optimizer=tfk.optimizers.Adam(1e-4), metrics='accuracy')"
      ],
      "execution_count": null,
      "outputs": []
    },
    {
      "cell_type": "code",
      "metadata": {
        "trusted": true,
        "id": "D4PI8LXOPpr7"
      },
      "source": [
        "callbacks = create_folders_and_callbacks(model_name='model_aug_RN50_fine')\n",
        "epochs = 50\n",
        "\n",
        "history = model_aug_RN50_fine.fit(\n",
        "    x = train_gen_data_aug,\n",
        "    batch_size = 64,\n",
        "    epochs = epochs,\n",
        "    callbacks = callbacks,\n",
        "    class_weight = class_weights\n",
        ").history"
      ],
      "execution_count": null,
      "outputs": []
    },
    {
      "cell_type": "code",
      "metadata": {
        "trusted": true,
        "id": "4bPkby68Ppr8"
      },
      "source": [
        "model_aug_RN50_fine.save('./working2')"
      ],
      "execution_count": null,
      "outputs": []
    },
    {
      "cell_type": "code",
      "metadata": {
        "trusted": true,
        "id": "c4bNTDwqPpr8"
      },
      "source": [
        "# Plot the training\n",
        "plt.figure(figsize=(15,5))\n",
        "plt.plot(history['loss'], label='Training', alpha=.8, color='#ff7f0e')\n",
        "#plt.plot(history['val_loss'], label='Validation', alpha=.8, color='#4D61E2')\n",
        "plt.legend(loc='upper left')\n",
        "plt.title('Binary Crossentropy')\n",
        "plt.grid(alpha=.3)\n",
        "\n",
        "plt.figure(figsize=(15,5))\n",
        "plt.plot(history['accuracy'], label='Training', alpha=.8, color='#ff7f0e')\n",
        "#plt.plot(history['val_accuracy'], label='Validation', alpha=.8, color='#4D61E2')\n",
        "plt.legend(loc='upper left')\n",
        "plt.title('Accuracy')\n",
        "plt.grid(alpha=.3)\n",
        "\n",
        "plt.show()"
      ],
      "execution_count": null,
      "outputs": []
    }
  ]
}