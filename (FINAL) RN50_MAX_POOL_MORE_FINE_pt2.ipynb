{
  "nbformat": 4,
  "nbformat_minor": 0,
  "metadata": {
    "kernelspec": {
      "language": "python",
      "display_name": "Python 3",
      "name": "python3"
    },
    "language_info": {
      "pygments_lexer": "ipython3",
      "nbconvert_exporter": "python",
      "version": "3.6.4",
      "file_extension": ".py",
      "codemirror_mode": {
        "name": "ipython",
        "version": 3
      },
      "name": "python",
      "mimetype": "text/x-python"
    },
    "colab": {
      "name": "93,22% RN50 MAX POOL MORE FINE pt2.ipynb",
      "provenance": []
    }
  },
  "cells": [
    {
      "cell_type": "markdown",
      "metadata": {
        "id": "ek69MEiDNcNy"
      },
      "source": [
        "This is the second part of the notebook we have used to build the model submitted for the final evaluation. Kaggle allows only runs which last less than 9 hourse, so we needed to split the training into 2 parts, otherwise we would have exceeded the maximum time."
      ]
    },
    {
      "cell_type": "code",
      "metadata": {
        "_uuid": "8f2839f25d086af736a60e9eeb907d3b93b6e0e5",
        "_cell_guid": "b1076dfc-b9ad-4769-8c92-a6c4dae69d19",
        "execution": {
          "iopub.status.busy": "2021-11-25T10:19:42.649336Z",
          "iopub.execute_input": "2021-11-25T10:19:42.649686Z",
          "iopub.status.idle": "2021-11-25T10:19:42.657205Z",
          "shell.execute_reply.started": "2021-11-25T10:19:42.649642Z",
          "shell.execute_reply": "2021-11-25T10:19:42.656433Z"
        },
        "trusted": true,
        "id": "g9qWKjwkNbca"
      },
      "source": [
        "# Importing libraries\n",
        "import tensorflow as tf\n",
        "import numpy as np\n",
        "import os\n",
        "import random\n",
        "import pandas as pd\n",
        "import matplotlib as mpl\n",
        "import matplotlib.pyplot as plt\n",
        "from sklearn.metrics import accuracy_score, f1_score, precision_score, recall_score\n",
        "from PIL import Image\n",
        "from tensorflow.keras.models import Sequential\n",
        "from tensorflow.keras.optimizers import Adam\n",
        "\n",
        "tfk = tf.keras\n",
        "tfkl = tf.keras.layers\n",
        "print(tf.__version__)"
      ],
      "execution_count": null,
      "outputs": []
    },
    {
      "cell_type": "code",
      "metadata": {
        "execution": {
          "iopub.status.busy": "2021-11-25T10:19:42.658907Z",
          "iopub.execute_input": "2021-11-25T10:19:42.659813Z",
          "iopub.status.idle": "2021-11-25T10:19:42.672683Z",
          "shell.execute_reply.started": "2021-11-25T10:19:42.659776Z",
          "shell.execute_reply": "2021-11-25T10:19:42.671943Z"
        },
        "trusted": true,
        "id": "fSuAJEHpNbcc"
      },
      "source": [
        "# Random seed for reproducibility\n",
        "seed = 42\n",
        "\n",
        "random.seed(seed)\n",
        "os.environ['PYTHONHASHSEED'] = str(seed)\n",
        "np.random.seed(seed)\n",
        "tf.random.set_seed(seed)\n",
        "tf.compat.v1.set_random_seed(seed)"
      ],
      "execution_count": null,
      "outputs": []
    },
    {
      "cell_type": "code",
      "metadata": {
        "execution": {
          "iopub.status.busy": "2021-11-25T10:19:42.686856Z",
          "iopub.execute_input": "2021-11-25T10:19:42.687343Z",
          "iopub.status.idle": "2021-11-25T10:19:42.717424Z",
          "shell.execute_reply.started": "2021-11-25T10:19:42.687314Z",
          "shell.execute_reply": "2021-11-25T10:19:42.71678Z"
        },
        "trusted": true,
        "id": "UPh-AlLJNbcd"
      },
      "source": [
        "# Class Weights are needed to contrast the problem of class imbalance.\n",
        "\n",
        "labels = ['Apple','Blueberry','Cherry','Corn','Grape','Orange','Peach','Pepper','Potato','Raspberry','Soybean','Squash','Strawberry','Tomato']\n",
        "\n",
        "num_of_images_training = []\n",
        "for l in labels:\n",
        "    path = '../input/full-dataset/Dataset/training' + '/' + l\n",
        "    num_img_class_l = len(os.listdir(path))\n",
        "    num_of_images_training.append(num_img_class_l)\n",
        "\n",
        "tot_num_images = 0\n",
        "for i in range(len(labels)):\n",
        "    tot_num_images += num_of_images_training[i]\n",
        "    \n",
        "weights = []\n",
        "for i in range(len(labels)):\n",
        "    num = (1 / num_of_images_training[i])*(tot_num_images)/14.0 \n",
        "    weights.append(num)\n",
        "    \n",
        "print(weights)\n",
        "\n",
        "# Vector of weights we will use for the training\n",
        "\n",
        "class_weights = {0: weights[0], 1: weights[1], 2: weights[2], 3: weights[3], 4: weights[4], 5: weights[5], 6: weights[6], 7: weights[7], 8: weights[8], 9: weights[9], 10: weights[10], 11: weights[11], 12: weights[12], 13: weights[13]}\n",
        "\n",
        "for i in range(len(labels)):\n",
        "    print(str(i) + ': {:.3f}'.format(weights[i]))"
      ],
      "execution_count": null,
      "outputs": []
    },
    {
      "cell_type": "code",
      "metadata": {
        "execution": {
          "iopub.status.busy": "2021-11-25T10:19:42.719138Z",
          "iopub.execute_input": "2021-11-25T10:19:42.71975Z",
          "iopub.status.idle": "2021-11-25T10:19:42.727837Z",
          "shell.execute_reply.started": "2021-11-25T10:19:42.719703Z",
          "shell.execute_reply": "2021-11-25T10:19:42.727141Z"
        },
        "trusted": true,
        "id": "tqaMWwR-Nbce"
      },
      "source": [
        "# Data augmentation\n",
        "\n",
        "from tensorflow.keras.preprocessing.image import ImageDataGenerator\n",
        "from tensorflow.keras.applications.resnet50 import preprocess_input\n",
        "\n",
        "train_data_gen_data_aug = ImageDataGenerator(rotation_range=30,\n",
        "                                        height_shift_range=50,\n",
        "                                        width_shift_range=50,\n",
        "                                        zoom_range=0.3, # To better recognize both veins (zoom in) and edges (zoom out) of the leaves\n",
        "                                        horizontal_flip=True,\n",
        "                                        vertical_flip=True, # To recognize leaves when they're upside down\n",
        "                                        fill_mode='constant') # To avoid multiple leaves in the same image\n",
        "                                        \n",
        "\n",
        "print(\"IDG OK\")"
      ],
      "execution_count": null,
      "outputs": []
    },
    {
      "cell_type": "code",
      "metadata": {
        "execution": {
          "iopub.status.busy": "2021-11-25T10:19:42.728773Z",
          "iopub.execute_input": "2021-11-25T10:19:42.729406Z",
          "iopub.status.idle": "2021-11-25T10:19:45.15018Z",
          "shell.execute_reply.started": "2021-11-25T10:19:42.729369Z",
          "shell.execute_reply": "2021-11-25T10:19:45.14924Z"
        },
        "trusted": true,
        "id": "bp6jhmnFNbcf"
      },
      "source": [
        "training_dir = '../input/full-dataset/Dataset/training'\n",
        "\n",
        "train_gen_data_aug = train_data_gen_data_aug.flow_from_directory(directory=training_dir,\n",
        "                                                           target_size=(256,256),\n",
        "                                                           color_mode='rgb',\n",
        "                                                           classes=None, \n",
        "                                                           class_mode='categorical',\n",
        "                                                           batch_size=64,\n",
        "                                                           shuffle=True,\n",
        "                                                           seed=seed)"
      ],
      "execution_count": null,
      "outputs": []
    },
    {
      "cell_type": "code",
      "metadata": {
        "execution": {
          "iopub.status.busy": "2021-11-25T10:19:45.151576Z",
          "iopub.execute_input": "2021-11-25T10:19:45.152019Z",
          "iopub.status.idle": "2021-11-25T10:19:55.872708Z",
          "shell.execute_reply.started": "2021-11-25T10:19:45.151981Z",
          "shell.execute_reply": "2021-11-25T10:19:55.871988Z"
        },
        "trusted": true,
        "id": "07e4dJIRNbcg"
      },
      "source": [
        "# We load the model whose training has been left halfway\n",
        "model = tfk.models.load_model('../input/output/SubmissionModel')"
      ],
      "execution_count": null,
      "outputs": []
    },
    {
      "cell_type": "code",
      "metadata": {
        "execution": {
          "iopub.status.busy": "2021-11-25T10:48:55.367482Z",
          "iopub.execute_input": "2021-11-25T10:48:55.367754Z",
          "iopub.status.idle": "2021-11-25T10:48:55.387656Z",
          "shell.execute_reply.started": "2021-11-25T10:48:55.367706Z",
          "shell.execute_reply": "2021-11-25T10:48:55.387002Z"
        },
        "trusted": true,
        "id": "SU8qOxW2Nbcg"
      },
      "source": [
        "model.compile(loss=tfk.losses.CategoricalCrossentropy(), optimizer=tfk.optimizers.Adam(1e-5), metrics='accuracy')"
      ],
      "execution_count": null,
      "outputs": []
    },
    {
      "cell_type": "code",
      "metadata": {
        "execution": {
          "iopub.status.busy": "2021-11-25T10:47:56.519788Z",
          "iopub.execute_input": "2021-11-25T10:47:56.520293Z",
          "iopub.status.idle": "2021-11-25T10:47:56.531274Z",
          "shell.execute_reply.started": "2021-11-25T10:47:56.520258Z",
          "shell.execute_reply": "2021-11-25T10:47:56.530484Z"
        },
        "trusted": true,
        "id": "cOKPZXGGNbch"
      },
      "source": [
        "# Utility function to create folders and callbacks for training\n",
        "from datetime import datetime\n",
        "\n",
        "def create_folders_and_callbacks(model_name):\n",
        "\n",
        "    exps_dir = os.path.join('./working1')\n",
        "    if not os.path.exists(exps_dir):\n",
        "        os.makedirs(exps_dir)\n",
        "\n",
        "    now = datetime.now().strftime('%b%d_%H-%M-%S')\n",
        "\n",
        "    exp_dir = os.path.join(exps_dir, model_name + '_' + str(now))\n",
        "    if not os.path.exists(exp_dir):\n",
        "        os.makedirs(exp_dir)\n",
        "      \n",
        "    callbacks = []\n",
        "\n",
        "    # Model checkpoint (Ci permette di salvare il model di cui abbiamo appena eseguito il training)\n",
        "    ckpt_dir = os.path.join(exp_dir, 'ckpts')\n",
        "    if not os.path.exists(ckpt_dir):\n",
        "        os.makedirs(ckpt_dir)\n",
        "\n",
        "    ckpt_callback = tf.keras.callbacks.ModelCheckpoint(filepath=os.path.join(ckpt_dir, 'cp.ckpt'), \n",
        "                                                     save_weights_only=False, # True to save only weights\n",
        "                                                     save_best_only= True) # True to save only the best epoch \n",
        "    callbacks.append(ckpt_callback)\n",
        "\n",
        "\n",
        "    return callbacks"
      ],
      "execution_count": null,
      "outputs": []
    },
    {
      "cell_type": "code",
      "metadata": {
        "execution": {
          "iopub.status.busy": "2021-11-25T10:49:03.06329Z",
          "iopub.execute_input": "2021-11-25T10:49:03.063537Z",
          "iopub.status.idle": "2021-11-25T12:16:49.712928Z",
          "shell.execute_reply.started": "2021-11-25T10:49:03.063508Z",
          "shell.execute_reply": "2021-11-25T12:16:49.712101Z"
        },
        "trusted": true,
        "id": "XW9Vc_EvNbci"
      },
      "source": [
        "callbacks = create_folders_and_callbacks(model_name='model')\n",
        "\n",
        "# Second half of the second step of the training\n",
        "history = model.fit(\n",
        "    x = train_gen_data_aug,\n",
        "    batch_size = 64,\n",
        "    epochs = 50,\n",
        "    callbacks = callbacks,\n",
        "    class_weight = class_weights # Class weights computed by us\n",
        ").history"
      ],
      "execution_count": null,
      "outputs": []
    },
    {
      "cell_type": "code",
      "metadata": {
        "execution": {
          "iopub.status.busy": "2021-11-25T12:24:33.318458Z",
          "iopub.execute_input": "2021-11-25T12:24:33.318707Z",
          "iopub.status.idle": "2021-11-25T12:25:02.379673Z",
          "shell.execute_reply.started": "2021-11-25T12:24:33.318679Z",
          "shell.execute_reply": "2021-11-25T12:25:02.378857Z"
        },
        "trusted": true,
        "id": "hsl96tPcNbcj"
      },
      "source": [
        "model.save('./working2')"
      ],
      "execution_count": null,
      "outputs": []
    },
    {
      "cell_type": "code",
      "metadata": {
        "execution": {
          "iopub.status.busy": "2021-11-25T12:17:18.913881Z",
          "iopub.execute_input": "2021-11-25T12:17:18.914086Z",
          "iopub.status.idle": "2021-11-25T12:17:19.357991Z",
          "shell.execute_reply.started": "2021-11-25T12:17:18.914061Z",
          "shell.execute_reply": "2021-11-25T12:17:19.35732Z"
        },
        "trusted": true,
        "id": "pcKv1oiPNbcj"
      },
      "source": [
        "# Plot the training\n",
        "plt.figure(figsize=(15,5))\n",
        "plt.plot(history['loss'], label='Training', alpha=.8, color='#ff7f0e')\n",
        "# plt.plot(history['val_loss'], label='Validation', alpha=.8, color='#4D61E2')\n",
        "plt.legend(loc='upper left')\n",
        "plt.title('Binary Crossentropy')\n",
        "plt.grid(alpha=.3)\n",
        "\n",
        "plt.figure(figsize=(15,5))\n",
        "plt.plot(history['accuracy'], label='Training', alpha=.8, color='#ff7f0e')\n",
        "# plt.plot(history['val_accuracy'], label='Validation', alpha=.8, color='#4D61E2')\n",
        "plt.legend(loc='upper left')\n",
        "plt.title('Accuracy')\n",
        "plt.grid(alpha=.3)\n",
        "\n",
        "plt.show()"
      ],
      "execution_count": null,
      "outputs": []
    }
  ]
}