{
  "nbformat": 4,
  "nbformat_minor": 0,
  "metadata": {
    "kernelspec": {
      "language": "python",
      "display_name": "Python 3",
      "name": "python3"
    },
    "language_info": {
      "pygments_lexer": "ipython3",
      "nbconvert_exporter": "python",
      "version": "3.6.4",
      "file_extension": ".py",
      "codemirror_mode": {
        "name": "ipython",
        "version": 3
      },
      "name": "python",
      "mimetype": "text/x-python"
    },
    "colab": {
      "name": "RN50_MAX_POOL_FINE.ipynb",
      "provenance": []
    }
  },
  "cells": [
    {
      "cell_type": "code",
      "metadata": {
        "execution": {
          "iopub.status.busy": "2021-11-23T10:57:42.031681Z",
          "iopub.execute_input": "2021-11-23T10:57:42.032293Z",
          "iopub.status.idle": "2021-11-23T10:57:48.428017Z",
          "shell.execute_reply.started": "2021-11-23T10:57:42.032265Z",
          "shell.execute_reply": "2021-11-23T10:57:48.427237Z"
        },
        "trusted": true,
        "id": "VbCUfjF7TGvb"
      },
      "source": [
        "# Importing libraries\n",
        "import tensorflow as tf\n",
        "import numpy as np\n",
        "import os\n",
        "import random\n",
        "import pandas as pd\n",
        "import matplotlib as mpl\n",
        "import matplotlib.pyplot as plt\n",
        "from sklearn.metrics import accuracy_score, f1_score, precision_score, recall_score\n",
        "from PIL import Image\n",
        "from tensorflow.keras.models import Sequential\n",
        "from tensorflow.keras.optimizers import Adam\n",
        "\n",
        "tfk = tf.keras\n",
        "tfkl = tf.keras.layers\n",
        "print(tf.__version__)"
      ],
      "execution_count": null,
      "outputs": []
    },
    {
      "cell_type": "code",
      "metadata": {
        "execution": {
          "iopub.status.busy": "2021-11-23T10:57:48.429677Z",
          "iopub.execute_input": "2021-11-23T10:57:48.430753Z",
          "iopub.status.idle": "2021-11-23T10:57:48.437636Z",
          "shell.execute_reply.started": "2021-11-23T10:57:48.43071Z",
          "shell.execute_reply": "2021-11-23T10:57:48.435623Z"
        },
        "trusted": true,
        "id": "vucKJYv_TGvc"
      },
      "source": [
        "# Random seed for reproducibility\n",
        "seed = 42\n",
        "\n",
        "random.seed(seed)\n",
        "os.environ['PYTHONHASHSEED'] = str(seed)\n",
        "np.random.seed(seed)\n",
        "tf.random.set_seed(seed)\n",
        "tf.compat.v1.set_random_seed(seed)"
      ],
      "execution_count": null,
      "outputs": []
    },
    {
      "cell_type": "code",
      "metadata": {
        "execution": {
          "iopub.status.busy": "2021-11-23T10:57:48.438875Z",
          "iopub.execute_input": "2021-11-23T10:57:48.439227Z",
          "iopub.status.idle": "2021-11-23T10:57:52.55772Z",
          "shell.execute_reply.started": "2021-11-23T10:57:48.439173Z",
          "shell.execute_reply": "2021-11-23T10:57:52.557105Z"
        },
        "trusted": true,
        "id": "T42GftwmTGvd"
      },
      "source": [
        "# Class Weights are needed to contrast the problem of class imbalance.\n",
        "\n",
        "labels = ['Apple','Blueberry','Cherry','Corn','Grape','Orange','Peach','Pepper','Potato','Raspberry','Soybean','Squash','Strawberry','Tomato']\n",
        "\n",
        "num_of_images_training = []\n",
        "for l in labels:\n",
        "    path = '../input/an2dl-post-processed-v3/Dataset/training' + '/' + l\n",
        "    num_img_class_l = len(os.listdir(path))\n",
        "    num_of_images_training.append(num_img_class_l)\n",
        "\n",
        "tot_num_images = 0\n",
        "for i in range(len(labels)):\n",
        "    tot_num_images += num_of_images_training[i]\n",
        "    \n",
        "weights = []\n",
        "for i in range(len(labels)):\n",
        "    num = (1 / num_of_images_training[i])*(tot_num_images)/14.0 \n",
        "    weights.append(num)\n",
        "    \n",
        "print(weights)\n",
        "\n",
        "# Vector of weights we will use for the training\n",
        "\n",
        "class_weights = {0: weights[0], 1: weights[1], 2: weights[2], 3: weights[3], 4: weights[4], 5: weights[5], 6: weights[6], 7: weights[7], 8: weights[8], 9: weights[9], 10: weights[10], 11: weights[11], 12: weights[12], 13: weights[13]}\n",
        "\n",
        "for i in range(len(labels)):\n",
        "    print(str(i) + ': {:.3f}'.format(weights[i]))\n",
        "    "
      ],
      "execution_count": null,
      "outputs": []
    },
    {
      "cell_type": "code",
      "metadata": {
        "execution": {
          "iopub.status.busy": "2021-11-23T10:57:52.559035Z",
          "iopub.execute_input": "2021-11-23T10:57:52.559281Z",
          "iopub.status.idle": "2021-11-23T10:57:52.568054Z",
          "shell.execute_reply.started": "2021-11-23T10:57:52.559252Z",
          "shell.execute_reply": "2021-11-23T10:57:52.567356Z"
        },
        "trusted": true,
        "id": "_j2Men5RTGve"
      },
      "source": [
        "# Data augmentation\n",
        "\n",
        "from tensorflow.keras.preprocessing.image import ImageDataGenerator\n",
        "from tensorflow.keras.applications.resnet50 import preprocess_input\n",
        "\n",
        "train_data_gen_data_aug = ImageDataGenerator(rotation_range=30,\n",
        "                                        height_shift_range=50,\n",
        "                                        width_shift_range=50,\n",
        "                                        zoom_range=0.3, # To better recognize both veins (zoom in) and edges (zoom out) of the leaves\n",
        "                                        horizontal_flip=True,\n",
        "                                        vertical_flip=True, # To recognize leaves when they're upside down\n",
        "                                        fill_mode='constant') # To avoid multiple leaves in the same image\n",
        "                                        \n",
        "\n",
        "valid_data_gen_data_aug = ImageDataGenerator()"
      ],
      "execution_count": null,
      "outputs": []
    },
    {
      "cell_type": "code",
      "metadata": {
        "execution": {
          "iopub.status.busy": "2021-11-23T10:57:52.569433Z",
          "iopub.execute_input": "2021-11-23T10:57:52.569919Z",
          "iopub.status.idle": "2021-11-23T10:57:59.101475Z",
          "shell.execute_reply.started": "2021-11-23T10:57:52.569879Z",
          "shell.execute_reply": "2021-11-23T10:57:59.100821Z"
        },
        "trusted": true,
        "id": "Jhe7VlJITGvf"
      },
      "source": [
        "training_dir = '../input/an2dl-post-processed-v3/Dataset/training'\n",
        "validation_dir = '../input/an2dl-post-processed-v3/Dataset/validation'\n",
        "\n",
        "train_gen_data_aug = train_data_gen_data_aug.flow_from_directory(directory=training_dir,\n",
        "                                                           target_size=(256,256),\n",
        "                                                           color_mode='rgb',\n",
        "                                                           classes=None, \n",
        "                                                           class_mode='categorical',\n",
        "                                                           batch_size=64,\n",
        "                                                           shuffle=True,\n",
        "                                                           seed=seed)\n",
        "\n",
        "valid_gen_data_aug = valid_data_gen_data_aug.flow_from_directory(directory=validation_dir,\n",
        "                                               target_size=(256,256),\n",
        "                                               color_mode='rgb',\n",
        "                                               classes=None, \n",
        "                                               class_mode='categorical',\n",
        "                                               batch_size=64,\n",
        "                                               shuffle=False,\n",
        "                                               seed=seed)\n",
        "print(\"DEBUG\")"
      ],
      "execution_count": null,
      "outputs": []
    },
    {
      "cell_type": "markdown",
      "metadata": {
        "id": "bAv-VpSyVA90"
      },
      "source": [
        "The training is divided into 2 steps\n",
        "\n",
        "1.   First Step: 20 epochs in which all the layers of ResNet50 are setted to \"trainable = False\". In this way we are able to train a little bit the dense layers that we have put after ResNet50 before the fine tuning. In this phase we use a larger learning rate (1e-3)\n",
        "2.   Second Step: 100 epochs in which the last layers of ResNet50 are setted to \"trainable = True\". In this way we fine tune ResNet50 togheter with our dense layers. In this phase we use a smaller learning rate (1e-4)\n",
        "\n",
        "Splitting the training into 2 steps, we can fine tune the last layers of ResNet50 having our dense layers trained a little bit."
      ]
    },
    {
      "cell_type": "code",
      "metadata": {
        "execution": {
          "iopub.status.busy": "2021-11-23T10:57:59.102382Z",
          "iopub.execute_input": "2021-11-23T10:57:59.103069Z",
          "iopub.status.idle": "2021-11-23T10:57:59.107458Z",
          "shell.execute_reply.started": "2021-11-23T10:57:59.103036Z",
          "shell.execute_reply": "2021-11-23T10:57:59.106527Z"
        },
        "trusted": true,
        "id": "G4rApDQ8TGvg"
      },
      "source": [
        "input_shape = (256, 256, 3)\n",
        "epochs = 20\n",
        "print(\"DEBUG\")"
      ],
      "execution_count": null,
      "outputs": []
    },
    {
      "cell_type": "code",
      "metadata": {
        "execution": {
          "iopub.status.busy": "2021-11-23T10:58:30.061398Z",
          "iopub.execute_input": "2021-11-23T10:58:30.061702Z",
          "iopub.status.idle": "2021-11-23T10:58:32.26589Z",
          "shell.execute_reply.started": "2021-11-23T10:58:30.06167Z",
          "shell.execute_reply": "2021-11-23T10:58:32.264943Z"
        },
        "trusted": true,
        "id": "_i0VKM6KTGvg"
      },
      "source": [
        "supernet = tfk.applications.ResNet50(\n",
        "    include_top=False, # In a first moment, none of the layers of ResNet50 is trainable\n",
        "    input_shape=(224,224,3),\n",
        "    weights='imagenet')\n",
        "\n",
        "supernet.trainable = False\n",
        "supernet.summary()\n"
      ],
      "execution_count": null,
      "outputs": []
    },
    {
      "cell_type": "code",
      "metadata": {
        "execution": {
          "iopub.status.busy": "2021-11-23T10:58:39.578743Z",
          "iopub.execute_input": "2021-11-23T10:58:39.579094Z",
          "iopub.status.idle": "2021-11-23T10:58:39.590176Z",
          "shell.execute_reply.started": "2021-11-23T10:58:39.579059Z",
          "shell.execute_reply": "2021-11-23T10:58:39.589388Z"
        },
        "trusted": true,
        "id": "WSXP0xvrTGvh"
      },
      "source": [
        "# Utility function to create folders and callbacks for training\n",
        "from datetime import datetime\n",
        "\n",
        "def create_folders_and_callbacks(model_name):\n",
        "\n",
        "    exps_dir = os.path.join('./working1')\n",
        "    if not os.path.exists(exps_dir):\n",
        "        os.makedirs(exps_dir)\n",
        "\n",
        "    now = datetime.now().strftime('%b%d_%H-%M-%S')\n",
        "\n",
        "    exp_dir = os.path.join(exps_dir, model_name + '_' + str(now))\n",
        "    if not os.path.exists(exp_dir):\n",
        "        os.makedirs(exp_dir)\n",
        "      \n",
        "    callbacks = []\n",
        "\n",
        "    # Model checkpoint\n",
        "    ckpt_dir = os.path.join(exp_dir, 'ckpts')\n",
        "    if not os.path.exists(ckpt_dir):\n",
        "        os.makedirs(ckpt_dir)\n",
        "\n",
        "    ckpt_callback = tf.keras.callbacks.ModelCheckpoint(filepath=os.path.join(ckpt_dir, 'cp.ckpt'), \n",
        "                                                     save_weights_only=False, # True to save only weights\n",
        "                                                     save_best_only= True) # True to save only the best epoch \n",
        "    callbacks.append(ckpt_callback)\n",
        "\n",
        "    # Visualize Learning on Tensorboard\n",
        "    tb_dir = os.path.join(exp_dir, 'tb_logs')\n",
        "    if not os.path.exists(tb_dir):\n",
        "        os.makedirs(tb_dir)\n",
        "      \n",
        "    # By default shows losses and metrics for both training and validation\n",
        "    tb_callback = tf.keras.callbacks.TensorBoard(log_dir=tb_dir, \n",
        "                                               profile_batch=0,\n",
        "                                               histogram_freq=1)  # if > 0 (epochs) shows weights histograms\n",
        "    callbacks.append(tb_callback)\n",
        "\n",
        "    # Early Stopping\n",
        "    es_callback = tfk.callbacks.EarlyStopping(monitor='val_accuracy', mode='max', patience=20, restore_best_weights=True)\n",
        "    callbacks.append(es_callback)\n",
        "\n",
        "    return callbacks"
      ],
      "execution_count": null,
      "outputs": []
    },
    {
      "cell_type": "code",
      "metadata": {
        "execution": {
          "iopub.status.busy": "2021-11-23T10:58:42.172089Z",
          "iopub.execute_input": "2021-11-23T10:58:42.172939Z",
          "iopub.status.idle": "2021-11-23T10:58:42.688383Z",
          "shell.execute_reply.started": "2021-11-23T10:58:42.172903Z",
          "shell.execute_reply": "2021-11-23T10:58:42.687523Z"
        },
        "trusted": true,
        "id": "W02i8kSuTGvi"
      },
      "source": [
        "supernet.trainable = False\n",
        "\n",
        "inputs = tfk.Input(shape=(256,256,3))\n",
        "\n",
        "x = tfkl.Resizing(224, 224, interpolation=\"bicubic\")(inputs) # 224x224 is the input shape used by ResNet50\n",
        "x = tfkl.GaussianNoise(stddev=0.1)(x) # We add some noise to generalize better\n",
        "x = preprocess_input(x) # Preprocessing using the preprocessing function of ResNet50\n",
        "\n",
        "\n",
        "x = supernet(x) # ResNet50\n",
        "\n",
        "x = tfkl.MaxPooling2D( # Max pooling to reduce the number of parameters\n",
        "    pool_size=(2, 2), strides=None, padding=\"valid\", data_format=None)(x)\n",
        "\n",
        "# Our dense layers\n",
        "\n",
        "x = tfkl.Flatten(name='Flattening')(x) # Flattening \n",
        "x = tfkl.Dropout(0.5, seed=seed)(x)\n",
        "x = tfkl.Dense(\n",
        "    128, \n",
        "    activation='relu',\n",
        "    kernel_initializer = tfk.initializers.GlorotUniform(seed))(x)\n",
        "x = tfkl.Dropout(0.3, seed=seed)(x)\n",
        "x = tfkl.Dense(\n",
        "    64, \n",
        "    activation='relu',\n",
        "    kernel_initializer = tfk.initializers.GlorotUniform(seed))(x)\n",
        "x = tfkl.Dropout(0.3, seed=seed)(x)\n",
        "outputs = tfkl.Dense(\n",
        "    14, # 14 classes of leaves\n",
        "    activation='softmax',\n",
        "    kernel_initializer = tfk.initializers.GlorotUniform(seed))(x)\n",
        "\n",
        "model_aug_RN50_fine = tfk.Model(inputs=inputs, outputs=outputs, name='model_aug_RN50_fine')\n",
        "model_aug_RN50_fine.summary()"
      ],
      "execution_count": null,
      "outputs": []
    },
    {
      "cell_type": "code",
      "metadata": {
        "execution": {
          "iopub.status.busy": "2021-11-23T10:58:53.006078Z",
          "iopub.execute_input": "2021-11-23T10:58:53.006385Z",
          "iopub.status.idle": "2021-11-23T10:58:53.025373Z",
          "shell.execute_reply.started": "2021-11-23T10:58:53.006355Z",
          "shell.execute_reply": "2021-11-23T10:58:53.024568Z"
        },
        "trusted": true,
        "id": "pYVNbo4ETGvi"
      },
      "source": [
        "# First step of the training\n",
        "model_aug_RN50_fine.compile(loss=tfk.losses.CategoricalCrossentropy(), optimizer=tfk.optimizers.Adam(1e-3), metrics='accuracy')"
      ],
      "execution_count": null,
      "outputs": []
    },
    {
      "cell_type": "code",
      "metadata": {
        "execution": {
          "iopub.status.busy": "2021-11-21T23:11:31.074002Z",
          "iopub.execute_input": "2021-11-21T23:11:31.074321Z",
          "iopub.status.idle": "2021-11-21T23:16:49.032754Z",
          "shell.execute_reply.started": "2021-11-21T23:11:31.074283Z",
          "shell.execute_reply": "2021-11-21T23:16:49.031909Z"
        },
        "trusted": true,
        "id": "P_DfGpUQTGvj"
      },
      "source": [
        "callbacks = create_folders_and_callbacks(model_name='model_aug_RN50_fine')\n",
        "\n",
        "history = model_aug_RN50_fine.fit(\n",
        "    x = train_gen_data_aug,\n",
        "    batch_size = 64,\n",
        "    epochs = epochs,\n",
        "    validation_data = valid_gen_data_aug,\n",
        "    callbacks = callbacks,\n",
        "    class_weight = class_weights # Class weights computed by us\n",
        ").history"
      ],
      "execution_count": null,
      "outputs": []
    },
    {
      "cell_type": "code",
      "metadata": {
        "execution": {
          "iopub.status.busy": "2021-11-23T10:59:37.822947Z",
          "iopub.execute_input": "2021-11-23T10:59:37.823245Z",
          "iopub.status.idle": "2021-11-23T10:59:37.932932Z",
          "shell.execute_reply.started": "2021-11-23T10:59:37.823199Z",
          "shell.execute_reply": "2021-11-23T10:59:37.93198Z"
        },
        "trusted": true,
        "id": "gEo_5CWHTGvj"
      },
      "source": [
        "model_aug_RN50_fine.get_layer('resnet50').trainable = True\n",
        "for i, layer in enumerate(model_aug_RN50_fine.get_layer('resnet50').layers[:158]): # Fine Tuning\n",
        "    layer.trainable=False\n",
        "for i, layer in enumerate(model_aug_RN50_fine.get_layer('resnet50').layers):\n",
        "    print(i, layer.name, layer.trainable)\n",
        "\n",
        "\n",
        "model_aug_RN50_fine.summary()"
      ],
      "execution_count": null,
      "outputs": []
    },
    {
      "cell_type": "code",
      "metadata": {
        "execution": {
          "iopub.status.busy": "2021-11-21T23:16:49.174749Z",
          "iopub.execute_input": "2021-11-21T23:16:49.17533Z",
          "iopub.status.idle": "2021-11-21T23:16:49.193361Z",
          "shell.execute_reply.started": "2021-11-21T23:16:49.175293Z",
          "shell.execute_reply": "2021-11-21T23:16:49.192602Z"
        },
        "trusted": true,
        "id": "-lEs2xA3TGvj"
      },
      "source": [
        "# Second step of the training\n",
        "model_aug_RN50_fine.compile(loss=tfk.losses.CategoricalCrossentropy(), optimizer=tfk.optimizers.Adam(1e-4), metrics='accuracy')"
      ],
      "execution_count": null,
      "outputs": []
    },
    {
      "cell_type": "code",
      "metadata": {
        "execution": {
          "iopub.status.busy": "2021-11-21T23:16:49.194802Z",
          "iopub.execute_input": "2021-11-21T23:16:49.195386Z",
          "iopub.status.idle": "2021-11-21T23:17:34.499931Z",
          "shell.execute_reply.started": "2021-11-21T23:16:49.195348Z",
          "shell.execute_reply": "2021-11-21T23:17:34.496969Z"
        },
        "trusted": true,
        "id": "PJvh2Wv9TGvk"
      },
      "source": [
        "callbacks = create_folders_and_callbacks(model_name='model_aug_RN50_fine')\n",
        "epochs = 100\n",
        "\n",
        "history = model_aug_RN50_fine.fit(\n",
        "    x = train_gen_data_aug,\n",
        "    batch_size = 64,\n",
        "    epochs = epochs,\n",
        "    validation_data = valid_gen_data_aug,\n",
        "    callbacks = callbacks,\n",
        "    class_weight = class_weights # Class weights computed by us\n",
        ").history"
      ],
      "execution_count": null,
      "outputs": []
    },
    {
      "cell_type": "code",
      "metadata": {
        "id": "rkznFApsTGvk"
      },
      "source": [
        "model_aug_RN50_fine.save('./working2')"
      ],
      "execution_count": null,
      "outputs": []
    },
    {
      "cell_type": "code",
      "metadata": {
        "execution": {
          "iopub.status.busy": "2021-11-21T23:17:34.502595Z",
          "iopub.status.idle": "2021-11-21T23:17:34.504639Z",
          "shell.execute_reply.started": "2021-11-21T23:17:34.504392Z",
          "shell.execute_reply": "2021-11-21T23:17:34.504419Z"
        },
        "trusted": true,
        "id": "tMwRTNyzTGvk"
      },
      "source": [
        "# Plot the training\n",
        "\n",
        "plt.figure(figsize=(15,5))\n",
        "plt.plot(history['loss'], label='Training', alpha=.8, color='#ff7f0e')\n",
        "plt.plot(history['val_loss'], label='Validation', alpha=.8, color='#4D61E2')\n",
        "plt.legend(loc='upper left')\n",
        "plt.title('Binary Crossentropy')\n",
        "plt.grid(alpha=.3)\n",
        "\n",
        "plt.figure(figsize=(15,5))\n",
        "plt.plot(history['accuracy'], label='Training', alpha=.8, color='#ff7f0e')\n",
        "plt.plot(history['val_accuracy'], label='Validation', alpha=.8, color='#4D61E2')\n",
        "plt.legend(loc='upper left')\n",
        "plt.title('Accuracy')\n",
        "plt.grid(alpha=.3)\n",
        "\n",
        "plt.show()"
      ],
      "execution_count": null,
      "outputs": []
    },
    {
      "cell_type": "code",
      "metadata": {
        "execution": {
          "iopub.status.busy": "2021-11-21T23:17:34.508054Z",
          "iopub.status.idle": "2021-11-21T23:17:34.509996Z",
          "shell.execute_reply.started": "2021-11-21T23:17:34.509749Z",
          "shell.execute_reply": "2021-11-21T23:17:34.509774Z"
        },
        "trusted": true,
        "id": "mj81o-TeTGvl"
      },
      "source": [
        "# Some information on the training\n",
        "\n",
        "from sklearn.metrics import confusion_matrix\n",
        "import seaborn as sns\n",
        "\n",
        "predictions = model_aug_RN50_fine.predict(valid_gen_data_aug)\n",
        "y_pred = np.argmax(predictions, axis= -1)\n",
        "y = valid_gen_data_aug.classes\n",
        "\n",
        "print('Confusion Matrix')\n",
        "cm = confusion_matrix(y, y_pred)\n",
        "print(cm)\n",
        "labels = {0: 'Apple',1: 'Blueberry',2: 'Cherry',3: 'Corn',4: 'Grape',5: 'Orange',6: 'Peach',7: 'Pepper',8: 'Potato',9: 'Raspberry',10: 'Soybean',11: 'Squash',12: 'Strawberry',13: 'Tomato'}\n",
        "\n",
        "accuracy = accuracy_score(y, y_pred)\n",
        "precision = precision_score(y, y_pred, average='macro')\n",
        "recall = recall_score(y, y_pred, average='macro')\n",
        "f1 = f1_score(y, y_pred, average='macro')\n",
        "print('Accuracy:',accuracy.round(4))\n",
        "print('Precision:',precision.round(4))\n",
        "print('Recall:',recall.round(4))\n",
        "print('F1:',f1.round(4))\n",
        "\n",
        "# Plot the confusion matrix\n",
        "plt.figure(figsize=(10,8))\n",
        "sns.heatmap(cm, xticklabels=list(labels.values()), yticklabels=list(labels.values()))\n",
        "plt.xlabel('True labels')\n",
        "plt.ylabel('Predicted labels')\n",
        "plt.show()"
      ],
      "execution_count": null,
      "outputs": []
    }
  ]
}